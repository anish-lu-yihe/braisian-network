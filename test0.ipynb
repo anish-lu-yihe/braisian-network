{
 "cells": [
  {
   "cell_type": "markdown",
   "id": "sexual-bowling",
   "metadata": {},
   "source": [
    "There are two types of inhibition: substractive and divisive. The dynamics are given by:\n",
    "$$\n",
    "\\begin{aligned}\n",
    "    \\frac{d}{d t} y_j &= \\sum_i (x_i - \\hat{x}_i) m_{ij}, \\\\\n",
    "    \\frac{d}{d t} \\log(y_j) &= \\frac{\\sum_i (x_i / \\hat{x}_i - 1) m_{ij}}{\\sum_i m_{ij}},\n",
    "\\end{aligned}\n",
    "$$\n",
    "respectively, where\n",
    "$$\n",
    "\\hat{x}_i = \\sum_j m_{ij} y_j.\n",
    "$$"
   ]
  },
  {
   "cell_type": "code",
   "execution_count": 1,
   "id": "adopted-playlist",
   "metadata": {},
   "outputs": [],
   "source": [
    "import numpy as np\n",
    "from common_functions.common_funs import *\n",
    "from ifn import *\n",
    "# init params and objects\n",
    "feature_num, item_num = 10, 3\n",
    "X = np.random.randint(2, size = (item_num, feature_num))\n",
    "M = np.zeros((item_num, feature_num))\n",
    "for i in range(item_num):\n",
    "    M[i, i : i + 2] = 1\n",
    "    M[i, 2 * i : 2 * i + 2] = 1\n",
    "divcat, subcat = [inhibitory_feedback_network(M, k) for k in ['div', 'sub']]\n",
    "cats = [divcat, subcat]"
   ]
  },
  {
   "cell_type": "code",
   "execution_count": 2,
   "id": "listed-donor",
   "metadata": {},
   "outputs": [],
   "source": [
    "epoch = 500\n",
    "rate = 0.1\n",
    "epsilon = 0.001\n",
    "testvector = randomise_abit(X[0], 0)\n",
    "divkey, subkey = [c.recognise(testvector, epoch, rate) for c in cats]"
   ]
  },
  {
   "cell_type": "code",
   "execution_count": 3,
   "id": "entire-playlist",
   "metadata": {},
   "outputs": [
    {
     "data": {
      "image/png": "[encoded data removed]",
      "text/plain": [
       "<Figure size 1440x360 with 2 Axes>"
      ]
     },
     "metadata": {
      "needs_background": "light"
     },
     "output_type": "display_data"
    }
   ],
   "source": [
    "import matplotlib.pyplot as plt\n",
    "epochs = range(epoch + 1)\n",
    "fig_2met, ax_2met = plt.subplots(1, 2, figsize = (20, 5))\n",
    "for ax, k in zip(ax_2met, [divkey, subkey]):\n",
    "    ax.plot(epochs, k)"
   ]
  },
  {
   "cell_type": "code",
   "execution_count": 4,
   "id": "continuing-racing",
   "metadata": {},
   "outputs": [
    {
     "data": {
      "text/plain": [
       "(array([[1., 1., 0., 0., 0., 0., 0., 0., 0., 0.],\n",
       "        [0., 1., 1., 1., 0., 0., 0., 0., 0., 0.],\n",
       "        [0., 0., 1., 1., 1., 1., 0., 0., 0., 0.]]),\n",
       " array([0., 0., 0., 1., 1., 1., 0., 0., 1., 1.]))"
      ]
     },
     "execution_count": 4,
     "metadata": {},
     "output_type": "execute_result"
    }
   ],
   "source": [
    "M, testvector"
   ]
  },
  {
   "cell_type": "markdown",
   "id": "fifteen-emperor",
   "metadata": {},
   "source": [
    "\n",
    "# init params\n",
    "x_num, y_num = 500, 100\n",
    "item_num = 3\n",
    "Y = np.random.randint(2, size = (item_num, y_num))\n",
    "Xfin, Yfin = , inhibitory_feedback_network('d')\n",
    "Xfin.setup_matrix(X), Yfin.setup_matrix(Y)"
   ]
  },
  {
   "cell_type": "markdown",
   "id": "solar-friday",
   "metadata": {},
   "source": [
    "epoch = 1000\n",
    "key1 = Xfin.recognise(X[0], epoch)\n",
    "outputs1 = np.dot(key1, Y)\n",
    "key2 = Yfin.recognise(Y[0], epoch)\n",
    "outputs2 = np.dot(key2, X)\n",
    "\n",
    "diff1x = np.max(np.abs(key1 - [1,0,0]), axis = 1)\n",
    "diff2y = np.max(np.abs(key2 - [1,0,0]), axis = 1)\n",
    "diff1y = np.max(np.abs(outputs1 - Y[0]), axis = 1)\n",
    "diff2x = np.max(np.abs(outputs2 - X[0]), axis = 1)"
   ]
  },
  {
   "cell_type": "markdown",
   "id": "minor-woman",
   "metadata": {},
   "source": [
    "import matplotlib.pyplot as plt\n",
    "epochs = range(epoch + 1)\n",
    "fig, ax = plt.subplots(1, 2)\n",
    "ax[0].plot(epochs[1:], diff1x[1:])\n",
    "ax[1].plot(epochs[1:], diff2y[1:])\n",
    "ax[0].plot(epochs[1:], diff1y[1:])\n",
    "ax[1].plot(epochs[1:], diff2x[1:])\n",
    "ax[0].set_xscale('log')\n",
    "ax[1].set_xscale('log')\n",
    "# coupling between X and Y through episodic key"
   ]
  },
  {
   "cell_type": "code",
   "execution_count": null,
   "id": "analyzed-eating",
   "metadata": {},
   "outputs": [],
   "source": []
  }
 ],
 "metadata": {
  "kernelspec": {
   "display_name": "Python 3",
   "language": "python",
   "name": "python3"
  },
  "language_info": {
   "codemirror_mode": {
    "name": "ipython",
    "version": 3
   },
   "file_extension": ".py",
   "mimetype": "text/x-python",
   "name": "python",
   "nbconvert_exporter": "python",
   "pygments_lexer": "ipython3",
   "version": "3.7.9"
  }
 },
 "nbformat": 4,
 "nbformat_minor": 5
}
